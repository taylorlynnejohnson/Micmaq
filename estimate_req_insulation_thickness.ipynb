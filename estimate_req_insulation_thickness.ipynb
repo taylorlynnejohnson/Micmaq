import numpy as np
from material_library_fn import material_library_fn

def estimate_min_insulation_thickness(
    rL, rR, B,
    T_charge, T_amb,
    charge_duration_s,
    ΔT_allow,
    k_sw=0.09,    # W/(m·K) for super-wool
):

    # 1) bed volume & capacitance
    V_bed = np.pi*(rR**2 - rL**2)*B            # m³
    ρ_s, c_s = material_library_fn('rock', 20)[3], material_library_fn('rock', 20)[0]
    C_th = ρ_s * c_s * V_bed                  # J/K

    # 2) surface area (cylindrical outer)
    A_surf = 2*np.pi*rR*B                     # m²

    # 3) required R_total so that loss Q_loss = C_th * ΔT_allow
    #    Q_loss = (T_charge - T_amb)/R_total * charge_duration_s
    #    => R_total ≥ (T_charge - T_amb)*charge_duration_s / (C_th * ΔT_allow)
    R_req = ( (T_charge - T_amb) * charge_duration_s ) \
            / (C_th * ΔT_allow)

    # 4) super-wool layer resistance is R_sw = L/(k_sw * A_surf)
    #    so L_min = R_req * k_sw * A_surf
    L_min = R_req * k_sw * A_surf

    return L_min